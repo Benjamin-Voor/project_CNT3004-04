{
  "nbformat": 4,
  "nbformat_minor": 0,
  "metadata": {
    "colab": {
      "provenance": []
    },
    "kernelspec": {
      "name": "python3",
      "display_name": "Python 3"
    },
    "language_info": {
      "name": "python"
    }
  },
  "cells": [
    {
      "cell_type": "code",
      "execution_count": null,
      "metadata": {
        "id": "9QpL9W85GNLD"
      },
      "outputs": [],
      "source": [
        "import socket\n",
        "import threading\n",
        "import time\n",
        "import logging\n",
        "from tqdm import tqdm\n",
        "\n",
        "# ... other server-side code ...\n",
        "\n",
        "def handle_client(client_socket, client_address):\n",
        "    while True:\n",
        "        try:\n",
        "            data = client_socket.recv(1024).decode()\n",
        "            command, filename = data.split()\n",
        "\n",
        "            if command == \"UPLOAD\":\n",
        "                file_size = int(client_socket.recv(1024).decode())\n",
        "                with open(filename, 'wb') as f:\n",
        "                    with tqdm(total=file_size, unit='B', unit_scale=True, desc=f\"Receiving {filename}\") as progress_bar:\n",
        "                        while True:\n",
        "                            data = client_socket.recv(1024)\n",
        "                            if not data:\n",
        "                                break\n",
        "                            f.write(data)\n",
        "                            progress_bar.update(len(data))\n",
        "\n",
        "                # Log file transfer details\n",
        "                log_file_transfer(client_address, filename, file_size)\n",
        "\n",
        "            # ... handle other commands (download, delete, list, etc.) ...\n",
        "\n",
        "        except Exception as e:\n",
        "            logging.error(f\"Error handling client: {e}\")\n",
        "            break\n",
        "\n",
        "    client_socket.close()\n",
        "    logging.info(f\"Connection closed with {client_address}\")\n",
        "\n",
        "def log_file_transfer(client_address, filename, file_size):\n",
        "    # Calculate transfer time and throughput\n",
        "    # ... (similar to the previous example) ...\n",
        "\n",
        "    logging.info(f\"Client {client_address} transferred {filename} ({file_size} bytes) in {transfer_time:.2f} seconds.\")\n",
        "    logging.info(f\"Throughput: {throughput:.2f} bytes/second\")\n",
        "\n",
        "# ... main server loop ...\n",
        "\n",
        "# Client-side code:\n",
        "\n",
        "import socket\n",
        "from tqdm import tqdm\n",
        "\n",
        "# ... client-side code ...\n",
        "\n",
        "def upload_file(filename, server_address):\n",
        "    with socket.socket(socket.AF_INET, socket.SOCK_STREAM) as client_socket:\n",
        "        client_socket.connect(server_address)\n",
        "\n",
        "        client_socket.sendall(\"UPLOAD\".encode()) 1\n",
        "        client_socket.sendall(str(os.path.getsize(filename)).encode())\n",
        "\n",
        "        with open(filename, 'rb') as f:\n",
        "            for chunk in tqdm(iter(lambda: f.read(1024), b''), total=os.path.getsize(filename), unit='B', unit_scale=True, desc=f\"Sending {filename}\"):\n",
        "                client_socket.sendall(chunk)"
      ]
    }
  ]
}